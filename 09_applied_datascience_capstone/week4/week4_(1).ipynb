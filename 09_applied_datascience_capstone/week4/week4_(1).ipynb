{
 "cells": [
  {
   "cell_type": "markdown",
   "metadata": {},
   "source": [
    "# Location Recommendation for High-end Chinese Restaurant"
   ]
  },
  {
   "cell_type": "markdown",
   "metadata": {},
   "source": [
    "## Introduction"
   ]
  },
  {
   "cell_type": "markdown",
   "metadata": {},
   "source": [
    "Introduction - As a data scientist who provides business consultation solution, one of your task is to identify the ideal location for any type of business. For instance, for a specific restaurant request which targeted on specific ethnic groups and income level, you need to make sure the recommendations have to be less competition meanwhile satisfy the high accesibility of specific ethnic groups and income level. \n",
    "\n",
    "Target of Audience - Client who wants to start a fast-food restaurant business in any neighborhood of US, but specific target type or ethnic group is unknown currently. "
   ]
  },
  {
   "cell_type": "markdown",
   "metadata": {},
   "source": [
    "## Data Sources"
   ]
  },
  {
   "cell_type": "markdown",
   "metadata": {},
   "source": [
    "The following data are required to perform data analysis:\n",
    "\n",
    "__Existing fast-food restaurant data in US:__\n",
    "\n",
    "Beside income level, we could use existing well-known fast food restaurant data to identify latent area\n",
    "- https://data.world/datafiniti/fast-food-restaurants-across-america\n",
    "- https://www.kaggle.com/starbucks/store-locations\n",
    "\n",
    "__Demographic data of ethnic groups in NY:__\n",
    "\n",
    "Identify major ethnic group in specific neighbourhood\n",
    "- https://www.kaggle.com/muonneutrino/new-york-city-census-data\n",
    "\n",
    "__Neighborhood data in US:__\n",
    "\n",
    "Geojson data for neighborhoods in US\n",
    "- (After identify targeted area will have specific sources)\n",
    "\n",
    "__Existing venue data in US:__\n",
    "\n",
    "Filter out location has exist competitive restaurants in specific neighborhood\n",
    "Other latent venues in neighborhood that could provides latent variation\n",
    "- https://developer.foursquare.com/"
   ]
  },
  {
   "cell_type": "code",
   "execution_count": null,
   "metadata": {},
   "outputs": [],
   "source": []
  }
 ],
 "metadata": {
  "kernelspec": {
   "display_name": "Python 3",
   "language": "python",
   "name": "python3"
  },
  "language_info": {
   "codemirror_mode": {
    "name": "ipython",
    "version": 3
   },
   "file_extension": ".py",
   "mimetype": "text/x-python",
   "name": "python",
   "nbconvert_exporter": "python",
   "pygments_lexer": "ipython3",
   "version": "3.7.1"
  }
 },
 "nbformat": 4,
 "nbformat_minor": 2
}
