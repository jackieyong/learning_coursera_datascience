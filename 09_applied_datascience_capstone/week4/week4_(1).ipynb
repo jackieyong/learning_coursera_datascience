{
 "cells": [
  {
   "cell_type": "markdown",
   "metadata": {},
   "source": [
    "# Expatriates' Accomodation Suggestion based on POI"
   ]
  },
  {
   "cell_type": "markdown",
   "metadata": {},
   "source": [
    "## Introduction/Business Problem"
   ]
  },
  {
   "cell_type": "markdown",
   "metadata": {},
   "source": [
    "Globalization not only push mega companies having business all over the world, the most trivial but scrutinized task is to figure out where to accomodate their employee. Sometimes these high-end employees are very picky for the place suggested.\n",
    "As Senior Human Resource Manager, one of the task is to list out several accomodation choices for these expatriates. This time they need to travel 3 different cities: Vienna, Zurich and Vancouver, as these places are just awarded as top 3 which have good quality of living city ranking in 2019 (https://mobilityexchange.mercer.com/Insights/quality-of-living-rankings). Hence, they need to travel between these places to look for high end business opportunity this year, so accomodation choices have to be studied thoroughly to meet their interest."
   ]
  },
  {
   "cell_type": "markdown",
   "metadata": {},
   "source": [
    "## Data Sources"
   ]
  },
  {
   "cell_type": "markdown",
   "metadata": {},
   "source": [
    "One of the quality evaluation for one places is Point of Interest, POI. Since accomodation suggestion has too many possibility, we could use clustering to categorize all of the places in these 3 cities into several types. The possibilities will be narrowed down as expatriates could choose the type first. \n",
    "\n",
    "Dataset for accomodation suggestion used as below:\n",
    "\n",
    "__POI__\n",
    "- Foursquare location data is used to achieve POI data from these 3 cities: Vienna, Zurich and Vancouver.\n",
    "\n",
    "__Postal Codes for each countries__\n",
    "\n",
    "- Vienna: https://en.wikipedia.org/wiki/List_of_postal_codes_in_Austria\n",
    "- Zurich: https://en.wikipedia.org/wiki/Subdivisions_of_Z%C3%BCrich\n",
    "- Vancouver: https://en.wikipedia.org/wiki/List_of_postal_codes_of_Canada:_V"
   ]
  },
  {
   "cell_type": "code",
   "execution_count": null,
   "metadata": {},
   "outputs": [],
   "source": []
  }
 ],
 "metadata": {
  "kernelspec": {
   "display_name": "Python 3",
   "language": "python",
   "name": "python3"
  },
  "language_info": {
   "codemirror_mode": {
    "name": "ipython",
    "version": 3
   },
   "file_extension": ".py",
   "mimetype": "text/x-python",
   "name": "python",
   "nbconvert_exporter": "python",
   "pygments_lexer": "ipython3",
   "version": "3.7.1"
  }
 },
 "nbformat": 4,
 "nbformat_minor": 2
}
