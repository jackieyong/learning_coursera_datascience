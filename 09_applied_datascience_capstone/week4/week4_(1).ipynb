{
 "cells": [
  {
   "cell_type": "markdown",
   "metadata": {},
   "source": [
    "# Capstone Project - The Battle of the Neighborhoods (Week 1) : \n",
    "# Discover the pattern of neighborhood(s) which has high popularity of fast-food chain in US\n",
    "### Applied Data Science Capstone by IBM/Coursera"
   ]
  },
  {
   "cell_type": "markdown",
   "metadata": {},
   "source": [
    "## 1_Introduction"
   ]
  },
  {
   "cell_type": "markdown",
   "metadata": {},
   "source": [
    "__Introduction:__\n",
    "\n",
    "In the United States (US), fast-food becomes one of the cuisine cultures, and start growing globally since last century. McDonald, KFC, Starbucks, Burger King and others make one feels no different when situated at any cities. Starts firstly as wagon located just beside highway, fast-food culture already intruding in majority urban neighborhoods. Therefore, \"location\" becomes the most crucial strategy to open one fast-food store. \n",
    "\n",
    "Hence, this study is aimed to discover the pattern of neighborhood(s) which has high popularity of fast-food chain. The pattern studies include the characteristics of city(s), demographic of neighborhoods (income/ethnic...) and Point Of interest (POI) group of neighborhoods for this time. First, we will collect the existing fast-food chain data in US, the data will help us to narrow down to few major target cities (eg. Can we deduce how Starbucks choose their target city? Can we spot the pattern behind the existing location store data?). From the choosen cities, we can find the correlation between each feature of city data, such as GDP, population, income and etc. This might help us to understand the strategy of branching. Next we will concentrate on the neighborhoods scale. The characteristics of these neighborhoods will be studied further in terms of demographic and POI composition. Clustering will be attempted to study the pattern of nearby POI composition.\n",
    "\n",
    "__Target of Audience:__\n",
    "\n",
    "Governments' health department (1) and fast-food entrepreneurs (2). The pattern discovery might help government to aware the unbalance of eating culture in specific neighborhoods which might arise latent health issues. For Fast-food entrepreneurs, the discovered pattern might help them to justify the location of one new store that to be opened in future.\n",
    "\n",
    "---"
   ]
  },
  {
   "cell_type": "markdown",
   "metadata": {},
   "source": [
    "## 2_Data"
   ]
  },
  {
   "cell_type": "markdown",
   "metadata": {},
   "source": [
    "The following data are required to perform data analysis:\n",
    "\n",
    "__Existing fast-food restaurant data in US:__\n",
    "\n",
    "- McDonalds: https://data.world/datafiniti/fast-food-restaurants-across-america\n",
    "- Starbucks: https://www.kaggle.com/starbucks/store-locations\n",
    "- Feature involved: \n",
    "    - City: Identify the city has the most fast-food restaurant.\n",
    "    - Country: Only target to fast-food restaurant in US.\n",
    "    - Address/postal code: Identify the neighbourhood if null.\n",
    "\n",
    "__City-scale data in US:__\n",
    "\n",
    "- https://www.kaggle.com/muonneutrino/us-census-demographic-data\n",
    "- Feature involved: \n",
    "    - County: Only target to county that has the choosen city.\n",
    "    - The following feaure will be investigated whether the city-scale pattern involve {}? {Total population, Gender, Race, Income, Poverty, Employment Type & Commuting Type}\n",
    "\n",
    "__Neighborhood-scale data in US:__\n",
    "\n",
    "(After identify targeted area will have specific sources)\n",
    "- eg. https://www.kaggle.com/muonneutrino/new-york-city-census-data\n",
    "- Feature involved: \n",
    "    - The following feaure will be investigated whether the neighborhood-scale pattern involve {}? {Total population, Gender, Race, Income, Poverty, Employment Type & Commuting Type}\n",
    "\n",
    "__Neighborhood geographical data in US:__\n",
    "\n",
    "(After identify targeted area will have specific sources)\n",
    "- eg. https://github.com/dwillis/nyc-maps\n",
    "- Feature involved: \n",
    "    - longitude and latitude of center coordination of targeted neighborhood\n",
    "\n",
    "__Existing venue data in US:__\n",
    "\n",
    "Latent venues pattern in specific neighborhood that has high popularity of fast-food restaurants\n",
    "- https://developer.foursquare.com/\n",
    "- Feature involved: \n",
    "    - various categories of venues in targeted neighborhood"
   ]
  },
  {
   "cell_type": "code",
   "execution_count": null,
   "metadata": {},
   "outputs": [],
   "source": []
  }
 ],
 "metadata": {
  "kernelspec": {
   "display_name": "Python 3",
   "language": "python",
   "name": "python3"
  },
  "language_info": {
   "codemirror_mode": {
    "name": "ipython",
    "version": 3
   },
   "file_extension": ".py",
   "mimetype": "text/x-python",
   "name": "python",
   "nbconvert_exporter": "python",
   "pygments_lexer": "ipython3",
   "version": "3.7.1"
  }
 },
 "nbformat": 4,
 "nbformat_minor": 2
}
